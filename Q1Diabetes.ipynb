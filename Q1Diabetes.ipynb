{
  "cells": [
    {
      "cell_type": "markdown",
      "metadata": {
        "id": "view-in-github",
        "colab_type": "text"
      },
      "source": [
        "<a href=\"https://colab.research.google.com/github/Ash-394/neuralnetworksconcepts/blob/main/Q1Diabetes.ipynb\" target=\"_parent\"><img src=\"https://colab.research.google.com/assets/colab-badge.svg\" alt=\"Open In Colab\"/></a>"
      ]
    },
    {
      "cell_type": "markdown",
      "source": [
        "# Early stage diabetes risk prediction \n",
        "Official dataset is from UC Irvine Machine Learning Repository: https://archive.ics.uci.edu/ml/datasets/Early+stage+diabetes+risk+prediction+dataset. or https://archive.ics.uci.edu/ml/machine-learning-databases/00529/\n",
        "\n"
      ],
      "metadata": {
        "id": "0w9OuYNV9vFd"
      }
    },
    {
      "cell_type": "markdown",
      "source": [
        "**Importing dependencies**"
      ],
      "metadata": {
        "id": "5tfQthZOxXOw"
      }
    },
    {
      "cell_type": "code",
      "execution_count": null,
      "metadata": {
        "id": "GjtEpmrBw5MQ"
      },
      "outputs": [],
      "source": [
        "import pandas as pd\n",
        "import numpy as np\n",
        "import matplotlib.pyplot as plt\n",
        "import seaborn as sns"
      ]
    },
    {
      "cell_type": "code",
      "execution_count": null,
      "metadata": {
        "id": "Ozw6BLi9w5MU"
      },
      "outputs": [],
      "source": [
        "\n",
        "from sklearn import preprocessing\n",
        "from sklearn.feature_selection import SelectKBest, f_regression\n",
        "from sklearn.tree import DecisionTreeClassifier\n",
        "from sklearn.model_selection import train_test_split\n",
        "from sklearn import metrics\n",
        "from sklearn.metrics import classification_report, confusion_matrix, accuracy_score, f1_score, precision_score,  recall_score\n",
        "from sklearn.preprocessing import LabelEncoder\n",
        "from sklearn.preprocessing import StandardScaler"
      ]
    },
    {
      "cell_type": "markdown",
      "source": [
        "**Mounting drive to colab**"
      ],
      "metadata": {
        "id": "KDAZ41-9ypo8"
      }
    },
    {
      "cell_type": "code",
      "source": [
        "from google.colab import drive\n",
        "drive.mount('/content/drive')"
      ],
      "metadata": {
        "id": "Yll4k0diyQzM"
      },
      "execution_count": null,
      "outputs": []
    },
    {
      "cell_type": "markdown",
      "source": [
        "**Converting into dataframe**"
      ],
      "metadata": {
        "id": "xirKLwjLzQwf"
      }
    },
    {
      "cell_type": "code",
      "execution_count": null,
      "metadata": {
        "id": "LyXe8uZhw5MV"
      },
      "outputs": [],
      "source": [
        "dia = pd.read_csv('/content/drive/MyDrive/dataset/dia - diabetes_data_upload.csv')\n",
        "dia.head()"
      ]
    },
    {
      "cell_type": "markdown",
      "source": [
        "**Encode target labels**"
      ],
      "metadata": {
        "id": "Jzyoc6Zp9Ok9"
      }
    },
    {
      "cell_type": "code",
      "execution_count": null,
      "metadata": {
        "id": "Q9V7rTCAw5MX"
      },
      "outputs": [],
      "source": [
        "n_dia = LabelEncoder()\n",
        "dia['Gender'] = n_dia.fit_transform(dia['Gender'].astype('str')) \n",
        "dia['Polyuria'] = n_dia.fit_transform(dia['Polyuria'].astype('str')) \n",
        "dia['Polydipsia'] = n_dia.fit_transform(dia['Polydipsia'].astype('str')) \n",
        "dia['sudden weight loss'] = n_dia.fit_transform(dia['sudden weight loss'].astype('str')) \n",
        "dia['weakness'] = n_dia.fit_transform(dia['weakness'].astype('str')) \n",
        "dia['Obesity'] = n_dia.fit_transform(dia['Obesity'].astype('str')) \n",
        "dia['class'] = n_dia.fit_transform(dia['class'].astype('str')) \n",
        "dia.head()"
      ]
    },
    {
      "cell_type": "markdown",
      "source": [
        "**Prepare the training set**\n"
      ],
      "metadata": {
        "id": "R7i_dSkM0zys"
      }
    },
    {
      "cell_type": "code",
      "execution_count": null,
      "metadata": {
        "id": "hM7Sny59w5MY"
      },
      "outputs": [],
      "source": [
        "#X = feature values, all columns except the last column\n",
        "x = dia.iloc[:, :-1]\n",
        "#Y = target values, last column of the data frame\n",
        "y = dia.iloc[:, 7]\n",
        "x.head()"
      ]
    },
    {
      "cell_type": "code",
      "source": [
        "y.head()"
      ],
      "metadata": {
        "id": "_R7RbPFn13A3"
      },
      "execution_count": null,
      "outputs": []
    },
    {
      "cell_type": "code",
      "execution_count": null,
      "metadata": {
        "id": "Rv08Frggw5Ma"
      },
      "outputs": [],
      "source": [
        "#Split the data into 70% training and 30% testing\n",
        "x_train, x_test, y_train, y_test = train_test_split(x, y, test_size = 0.3,random_state=42)"
      ]
    },
    {
      "cell_type": "code",
      "execution_count": null,
      "metadata": {
        "id": "MLETL_xfw5Mb"
      },
      "outputs": [],
      "source": [
        "#Standardize features\n",
        "scaler = StandardScaler()\n",
        "scaler.fit(x_train)\n",
        "x_train = scaler.transform(x_train)\n",
        "x_test = scaler.transform(x_test)"
      ]
    },
    {
      "cell_type": "markdown",
      "source": [],
      "metadata": {
        "id": "OZiT8jsG9p02"
      }
    },
    {
      "cell_type": "markdown",
      "source": [
        "**Classification Algorithm**"
      ],
      "metadata": {
        "id": "ZQepXyGd4BIY"
      }
    },
    {
      "cell_type": "code",
      "execution_count": null,
      "metadata": {
        "id": "jgKt75PXw5Mc"
      },
      "outputs": [],
      "source": [
        "#Algorithm: DecisionTreeClassifier\n",
        "dt = DecisionTreeClassifier()\n",
        "dt.fit(x_train, y_train)\n",
        "#Test the model\n",
        "pred_dt = dt.predict(x_test)\n",
        "#Calculate confusion matrix\n",
        "conf_matrix = confusion_matrix(y_true = y_test,y_pred = pred_dt)"
      ]
    },
    {
      "cell_type": "markdown",
      "source": [
        "**Confusion Matrix**"
      ],
      "metadata": {
        "id": "7QJk7P054HUm"
      }
    },
    {
      "cell_type": "code",
      "source": [
        "#Print confusion matrix\n",
        "fig,ax = plt.subplots(figsize=(5,5))\n",
        "ax.matshow(conf_matrix,cmap=plt.cm.Spectral,alpha=0.7)\n",
        "for i in range(conf_matrix.shape[0]):\n",
        "  for j in range(conf_matrix.shape[1]):\n",
        "     ax.text(x=j,y=i,s=conf_matrix[i,j],va='center',ha='center',size='xx-large')\n",
        "plt.xlabel('Predictions',fontsize=18)\n",
        "plt.ylabel('Actuals',fontsize=18)\n",
        "plt.title('Confusion Matrix',fontsize=18)\n",
        "plt.show()\n"
      ],
      "metadata": {
        "id": "7HMZQ2hh3Uhk"
      },
      "execution_count": null,
      "outputs": []
    },
    {
      "cell_type": "markdown",
      "source": [
        "**Check accuracy,precision,recall,f1-score**"
      ],
      "metadata": {
        "id": "WHNULiDx4ZKr"
      }
    },
    {
      "cell_type": "code",
      "source": [
        "print(classification_report(y_test,pred_dt))"
      ],
      "metadata": {
        "id": "IWW_mHnW4jhK"
      },
      "execution_count": null,
      "outputs": []
    },
    {
      "cell_type": "code",
      "source": [
        "#Accuracy\n",
        "print(\"Accuracy Score : \",accuracy_score(y_test,pred_dt))\n"
      ],
      "metadata": {
        "id": "PWa1pXTV4xGy"
      },
      "execution_count": null,
      "outputs": []
    },
    {
      "cell_type": "code",
      "source": [
        "#Precision\n",
        "print(\"Precision Score : \",precision_score(y_test,pred_dt))"
      ],
      "metadata": {
        "id": "ypPZ54ke42YO"
      },
      "execution_count": null,
      "outputs": []
    },
    {
      "cell_type": "code",
      "source": [
        "#Recal\n",
        "print(\"Recall Score : \",recall_score(y_test,pred_dt))\n"
      ],
      "metadata": {
        "id": "0v2IuZkN5Bg_"
      },
      "execution_count": null,
      "outputs": []
    }
  ],
  "metadata": {
    "kernelspec": {
      "display_name": "Python 3",
      "language": "python",
      "name": "python3"
    },
    "language_info": {
      "codemirror_mode": {
        "name": "ipython",
        "version": 3
      },
      "file_extension": ".py",
      "mimetype": "text/x-python",
      "name": "python",
      "nbconvert_exporter": "python",
      "pygments_lexer": "ipython3",
      "version": "3.8.5"
    },
    "colab": {
      "provenance": [],
      "include_colab_link": true
    }
  },
  "nbformat": 4,
  "nbformat_minor": 0
}