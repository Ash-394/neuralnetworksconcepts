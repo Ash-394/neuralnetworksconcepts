{
  "cells": [
    {
      "cell_type": "markdown",
      "metadata": {
        "id": "view-in-github",
        "colab_type": "text"
      },
      "source": [
        "<a href=\"https://colab.research.google.com/github/Ash-394/neuralnetworksconcepts/blob/main/Q2_Diabetes.ipynb\" target=\"_parent\"><img src=\"https://colab.research.google.com/assets/colab-badge.svg\" alt=\"Open In Colab\"/></a>"
      ]
    },
    {
      "cell_type": "markdown",
      "source": [
        "# Early stage diabetes risk prediction \n",
        "Official dataset is from UC Irvine Machine Learning Repository: https://archive.ics.uci.edu/ml/datasets/Early+stage+diabetes+risk+prediction+dataset. or https://archive.ics.uci.edu/ml/machine-learning-databases/00529/\n",
        "\n"
      ],
      "metadata": {
        "id": "0w9OuYNV9vFd"
      }
    },
    {
      "cell_type": "markdown",
      "source": [
        "\n",
        "\n",
        "### Mounting drive to colab"
      ],
      "metadata": {
        "id": "KDAZ41-9ypo8"
      }
    },
    {
      "cell_type": "code",
      "source": [
        "from google.colab import drive\n",
        "drive.mount('/content/drive')"
      ],
      "metadata": {
        "colab": {
          "base_uri": "https://localhost:8080/"
        },
        "id": "Yll4k0diyQzM",
        "outputId": "de1ea08c-b4d3-4da7-dd01-ab34e6006c2b"
      },
      "execution_count": null,
      "outputs": [
        {
          "output_type": "stream",
          "name": "stdout",
          "text": [
            "Mounted at /content/drive\n"
          ]
        }
      ]
    },
    {
      "cell_type": "markdown",
      "source": [
        "### Converting into dataframe"
      ],
      "metadata": {
        "id": "xirKLwjLzQwf"
      }
    },
    {
      "cell_type": "code",
      "execution_count": null,
      "metadata": {
        "colab": {
          "base_uri": "https://localhost:8080/",
          "height": 206
        },
        "id": "LyXe8uZhw5MV",
        "outputId": "1e9ff60a-d143-44f5-ea3d-da28b6077320"
      },
      "outputs": [
        {
          "output_type": "execute_result",
          "data": {
            "text/plain": [
              "   Age Gender Polyuria Polydipsia sudden weight loss weakness Obesity  \\\n",
              "0   40   Male       No        Yes                 No      Yes     Yes   \n",
              "1   58   Male       No         No                 No      Yes      No   \n",
              "2   41   Male      Yes         No                 No      Yes      No   \n",
              "3   45   Male       No         No                Yes      Yes      No   \n",
              "4   60   Male      Yes        Yes                Yes      Yes     Yes   \n",
              "\n",
              "      class  \n",
              "0  Positive  \n",
              "1  Positive  \n",
              "2  Positive  \n",
              "3  Positive  \n",
              "4  Positive  "
            ],
            "text/html": [
              "\n",
              "  <div id=\"df-d0d1c239-46a9-4274-9818-dc8fac83d4df\">\n",
              "    <div class=\"colab-df-container\">\n",
              "      <div>\n",
              "<style scoped>\n",
              "    .dataframe tbody tr th:only-of-type {\n",
              "        vertical-align: middle;\n",
              "    }\n",
              "\n",
              "    .dataframe tbody tr th {\n",
              "        vertical-align: top;\n",
              "    }\n",
              "\n",
              "    .dataframe thead th {\n",
              "        text-align: right;\n",
              "    }\n",
              "</style>\n",
              "<table border=\"1\" class=\"dataframe\">\n",
              "  <thead>\n",
              "    <tr style=\"text-align: right;\">\n",
              "      <th></th>\n",
              "      <th>Age</th>\n",
              "      <th>Gender</th>\n",
              "      <th>Polyuria</th>\n",
              "      <th>Polydipsia</th>\n",
              "      <th>sudden weight loss</th>\n",
              "      <th>weakness</th>\n",
              "      <th>Obesity</th>\n",
              "      <th>class</th>\n",
              "    </tr>\n",
              "  </thead>\n",
              "  <tbody>\n",
              "    <tr>\n",
              "      <th>0</th>\n",
              "      <td>40</td>\n",
              "      <td>Male</td>\n",
              "      <td>No</td>\n",
              "      <td>Yes</td>\n",
              "      <td>No</td>\n",
              "      <td>Yes</td>\n",
              "      <td>Yes</td>\n",
              "      <td>Positive</td>\n",
              "    </tr>\n",
              "    <tr>\n",
              "      <th>1</th>\n",
              "      <td>58</td>\n",
              "      <td>Male</td>\n",
              "      <td>No</td>\n",
              "      <td>No</td>\n",
              "      <td>No</td>\n",
              "      <td>Yes</td>\n",
              "      <td>No</td>\n",
              "      <td>Positive</td>\n",
              "    </tr>\n",
              "    <tr>\n",
              "      <th>2</th>\n",
              "      <td>41</td>\n",
              "      <td>Male</td>\n",
              "      <td>Yes</td>\n",
              "      <td>No</td>\n",
              "      <td>No</td>\n",
              "      <td>Yes</td>\n",
              "      <td>No</td>\n",
              "      <td>Positive</td>\n",
              "    </tr>\n",
              "    <tr>\n",
              "      <th>3</th>\n",
              "      <td>45</td>\n",
              "      <td>Male</td>\n",
              "      <td>No</td>\n",
              "      <td>No</td>\n",
              "      <td>Yes</td>\n",
              "      <td>Yes</td>\n",
              "      <td>No</td>\n",
              "      <td>Positive</td>\n",
              "    </tr>\n",
              "    <tr>\n",
              "      <th>4</th>\n",
              "      <td>60</td>\n",
              "      <td>Male</td>\n",
              "      <td>Yes</td>\n",
              "      <td>Yes</td>\n",
              "      <td>Yes</td>\n",
              "      <td>Yes</td>\n",
              "      <td>Yes</td>\n",
              "      <td>Positive</td>\n",
              "    </tr>\n",
              "  </tbody>\n",
              "</table>\n",
              "</div>\n",
              "      <button class=\"colab-df-convert\" onclick=\"convertToInteractive('df-d0d1c239-46a9-4274-9818-dc8fac83d4df')\"\n",
              "              title=\"Convert this dataframe to an interactive table.\"\n",
              "              style=\"display:none;\">\n",
              "        \n",
              "  <svg xmlns=\"http://www.w3.org/2000/svg\" height=\"24px\"viewBox=\"0 0 24 24\"\n",
              "       width=\"24px\">\n",
              "    <path d=\"M0 0h24v24H0V0z\" fill=\"none\"/>\n",
              "    <path d=\"M18.56 5.44l.94 2.06.94-2.06 2.06-.94-2.06-.94-.94-2.06-.94 2.06-2.06.94zm-11 1L8.5 8.5l.94-2.06 2.06-.94-2.06-.94L8.5 2.5l-.94 2.06-2.06.94zm10 10l.94 2.06.94-2.06 2.06-.94-2.06-.94-.94-2.06-.94 2.06-2.06.94z\"/><path d=\"M17.41 7.96l-1.37-1.37c-.4-.4-.92-.59-1.43-.59-.52 0-1.04.2-1.43.59L10.3 9.45l-7.72 7.72c-.78.78-.78 2.05 0 2.83L4 21.41c.39.39.9.59 1.41.59.51 0 1.02-.2 1.41-.59l7.78-7.78 2.81-2.81c.8-.78.8-2.07 0-2.86zM5.41 20L4 18.59l7.72-7.72 1.47 1.35L5.41 20z\"/>\n",
              "  </svg>\n",
              "      </button>\n",
              "      \n",
              "  <style>\n",
              "    .colab-df-container {\n",
              "      display:flex;\n",
              "      flex-wrap:wrap;\n",
              "      gap: 12px;\n",
              "    }\n",
              "\n",
              "    .colab-df-convert {\n",
              "      background-color: #E8F0FE;\n",
              "      border: none;\n",
              "      border-radius: 50%;\n",
              "      cursor: pointer;\n",
              "      display: none;\n",
              "      fill: #1967D2;\n",
              "      height: 32px;\n",
              "      padding: 0 0 0 0;\n",
              "      width: 32px;\n",
              "    }\n",
              "\n",
              "    .colab-df-convert:hover {\n",
              "      background-color: #E2EBFA;\n",
              "      box-shadow: 0px 1px 2px rgba(60, 64, 67, 0.3), 0px 1px 3px 1px rgba(60, 64, 67, 0.15);\n",
              "      fill: #174EA6;\n",
              "    }\n",
              "\n",
              "    [theme=dark] .colab-df-convert {\n",
              "      background-color: #3B4455;\n",
              "      fill: #D2E3FC;\n",
              "    }\n",
              "\n",
              "    [theme=dark] .colab-df-convert:hover {\n",
              "      background-color: #434B5C;\n",
              "      box-shadow: 0px 1px 3px 1px rgba(0, 0, 0, 0.15);\n",
              "      filter: drop-shadow(0px 1px 2px rgba(0, 0, 0, 0.3));\n",
              "      fill: #FFFFFF;\n",
              "    }\n",
              "  </style>\n",
              "\n",
              "      <script>\n",
              "        const buttonEl =\n",
              "          document.querySelector('#df-d0d1c239-46a9-4274-9818-dc8fac83d4df button.colab-df-convert');\n",
              "        buttonEl.style.display =\n",
              "          google.colab.kernel.accessAllowed ? 'block' : 'none';\n",
              "\n",
              "        async function convertToInteractive(key) {\n",
              "          const element = document.querySelector('#df-d0d1c239-46a9-4274-9818-dc8fac83d4df');\n",
              "          const dataTable =\n",
              "            await google.colab.kernel.invokeFunction('convertToInteractive',\n",
              "                                                     [key], {});\n",
              "          if (!dataTable) return;\n",
              "\n",
              "          const docLinkHtml = 'Like what you see? Visit the ' +\n",
              "            '<a target=\"_blank\" href=https://colab.research.google.com/notebooks/data_table.ipynb>data table notebook</a>'\n",
              "            + ' to learn more about interactive tables.';\n",
              "          element.innerHTML = '';\n",
              "          dataTable['output_type'] = 'display_data';\n",
              "          await google.colab.output.renderOutput(dataTable, element);\n",
              "          const docLink = document.createElement('div');\n",
              "          docLink.innerHTML = docLinkHtml;\n",
              "          element.appendChild(docLink);\n",
              "        }\n",
              "      </script>\n",
              "    </div>\n",
              "  </div>\n",
              "  "
            ]
          },
          "metadata": {},
          "execution_count": 4
        }
      ],
      "source": [
        "import pandas as pd\n",
        "dia = pd.read_csv('/content/drive/MyDrive/dataset/dia - diabetes_data_upload.csv')\n",
        "dia.head()"
      ]
    },
    {
      "cell_type": "markdown",
      "source": [
        "### Encode target labels"
      ],
      "metadata": {
        "id": "Jzyoc6Zp9Ok9"
      }
    },
    {
      "cell_type": "code",
      "execution_count": null,
      "metadata": {
        "colab": {
          "base_uri": "https://localhost:8080/",
          "height": 206
        },
        "id": "Q9V7rTCAw5MX",
        "outputId": "61973eb6-72fe-44ad-90f5-5999c6cec69c"
      },
      "outputs": [
        {
          "output_type": "execute_result",
          "data": {
            "text/plain": [
              "    Age  Gender  Polyuria  Polydipsia  sudden weight loss  weakness  Obesity  \\\n",
              "0  40.0     1.0       0.0         1.0                 0.0       1.0      1.0   \n",
              "1  58.0     1.0       0.0         0.0                 0.0       1.0      0.0   \n",
              "2  41.0     1.0       1.0         0.0                 0.0       1.0      0.0   \n",
              "3  45.0     1.0       0.0         0.0                 1.0       1.0      0.0   \n",
              "4  60.0     1.0       1.0         1.0                 1.0       1.0      1.0   \n",
              "\n",
              "   class  \n",
              "0    1.0  \n",
              "1    1.0  \n",
              "2    1.0  \n",
              "3    1.0  \n",
              "4    1.0  "
            ],
            "text/html": [
              "\n",
              "  <div id=\"df-fff758cc-247d-4eaa-a46c-238f9a991982\">\n",
              "    <div class=\"colab-df-container\">\n",
              "      <div>\n",
              "<style scoped>\n",
              "    .dataframe tbody tr th:only-of-type {\n",
              "        vertical-align: middle;\n",
              "    }\n",
              "\n",
              "    .dataframe tbody tr th {\n",
              "        vertical-align: top;\n",
              "    }\n",
              "\n",
              "    .dataframe thead th {\n",
              "        text-align: right;\n",
              "    }\n",
              "</style>\n",
              "<table border=\"1\" class=\"dataframe\">\n",
              "  <thead>\n",
              "    <tr style=\"text-align: right;\">\n",
              "      <th></th>\n",
              "      <th>Age</th>\n",
              "      <th>Gender</th>\n",
              "      <th>Polyuria</th>\n",
              "      <th>Polydipsia</th>\n",
              "      <th>sudden weight loss</th>\n",
              "      <th>weakness</th>\n",
              "      <th>Obesity</th>\n",
              "      <th>class</th>\n",
              "    </tr>\n",
              "  </thead>\n",
              "  <tbody>\n",
              "    <tr>\n",
              "      <th>0</th>\n",
              "      <td>40.0</td>\n",
              "      <td>1.0</td>\n",
              "      <td>0.0</td>\n",
              "      <td>1.0</td>\n",
              "      <td>0.0</td>\n",
              "      <td>1.0</td>\n",
              "      <td>1.0</td>\n",
              "      <td>1.0</td>\n",
              "    </tr>\n",
              "    <tr>\n",
              "      <th>1</th>\n",
              "      <td>58.0</td>\n",
              "      <td>1.0</td>\n",
              "      <td>0.0</td>\n",
              "      <td>0.0</td>\n",
              "      <td>0.0</td>\n",
              "      <td>1.0</td>\n",
              "      <td>0.0</td>\n",
              "      <td>1.0</td>\n",
              "    </tr>\n",
              "    <tr>\n",
              "      <th>2</th>\n",
              "      <td>41.0</td>\n",
              "      <td>1.0</td>\n",
              "      <td>1.0</td>\n",
              "      <td>0.0</td>\n",
              "      <td>0.0</td>\n",
              "      <td>1.0</td>\n",
              "      <td>0.0</td>\n",
              "      <td>1.0</td>\n",
              "    </tr>\n",
              "    <tr>\n",
              "      <th>3</th>\n",
              "      <td>45.0</td>\n",
              "      <td>1.0</td>\n",
              "      <td>0.0</td>\n",
              "      <td>0.0</td>\n",
              "      <td>1.0</td>\n",
              "      <td>1.0</td>\n",
              "      <td>0.0</td>\n",
              "      <td>1.0</td>\n",
              "    </tr>\n",
              "    <tr>\n",
              "      <th>4</th>\n",
              "      <td>60.0</td>\n",
              "      <td>1.0</td>\n",
              "      <td>1.0</td>\n",
              "      <td>1.0</td>\n",
              "      <td>1.0</td>\n",
              "      <td>1.0</td>\n",
              "      <td>1.0</td>\n",
              "      <td>1.0</td>\n",
              "    </tr>\n",
              "  </tbody>\n",
              "</table>\n",
              "</div>\n",
              "      <button class=\"colab-df-convert\" onclick=\"convertToInteractive('df-fff758cc-247d-4eaa-a46c-238f9a991982')\"\n",
              "              title=\"Convert this dataframe to an interactive table.\"\n",
              "              style=\"display:none;\">\n",
              "        \n",
              "  <svg xmlns=\"http://www.w3.org/2000/svg\" height=\"24px\"viewBox=\"0 0 24 24\"\n",
              "       width=\"24px\">\n",
              "    <path d=\"M0 0h24v24H0V0z\" fill=\"none\"/>\n",
              "    <path d=\"M18.56 5.44l.94 2.06.94-2.06 2.06-.94-2.06-.94-.94-2.06-.94 2.06-2.06.94zm-11 1L8.5 8.5l.94-2.06 2.06-.94-2.06-.94L8.5 2.5l-.94 2.06-2.06.94zm10 10l.94 2.06.94-2.06 2.06-.94-2.06-.94-.94-2.06-.94 2.06-2.06.94z\"/><path d=\"M17.41 7.96l-1.37-1.37c-.4-.4-.92-.59-1.43-.59-.52 0-1.04.2-1.43.59L10.3 9.45l-7.72 7.72c-.78.78-.78 2.05 0 2.83L4 21.41c.39.39.9.59 1.41.59.51 0 1.02-.2 1.41-.59l7.78-7.78 2.81-2.81c.8-.78.8-2.07 0-2.86zM5.41 20L4 18.59l7.72-7.72 1.47 1.35L5.41 20z\"/>\n",
              "  </svg>\n",
              "      </button>\n",
              "      \n",
              "  <style>\n",
              "    .colab-df-container {\n",
              "      display:flex;\n",
              "      flex-wrap:wrap;\n",
              "      gap: 12px;\n",
              "    }\n",
              "\n",
              "    .colab-df-convert {\n",
              "      background-color: #E8F0FE;\n",
              "      border: none;\n",
              "      border-radius: 50%;\n",
              "      cursor: pointer;\n",
              "      display: none;\n",
              "      fill: #1967D2;\n",
              "      height: 32px;\n",
              "      padding: 0 0 0 0;\n",
              "      width: 32px;\n",
              "    }\n",
              "\n",
              "    .colab-df-convert:hover {\n",
              "      background-color: #E2EBFA;\n",
              "      box-shadow: 0px 1px 2px rgba(60, 64, 67, 0.3), 0px 1px 3px 1px rgba(60, 64, 67, 0.15);\n",
              "      fill: #174EA6;\n",
              "    }\n",
              "\n",
              "    [theme=dark] .colab-df-convert {\n",
              "      background-color: #3B4455;\n",
              "      fill: #D2E3FC;\n",
              "    }\n",
              "\n",
              "    [theme=dark] .colab-df-convert:hover {\n",
              "      background-color: #434B5C;\n",
              "      box-shadow: 0px 1px 3px 1px rgba(0, 0, 0, 0.15);\n",
              "      filter: drop-shadow(0px 1px 2px rgba(0, 0, 0, 0.3));\n",
              "      fill: #FFFFFF;\n",
              "    }\n",
              "  </style>\n",
              "\n",
              "      <script>\n",
              "        const buttonEl =\n",
              "          document.querySelector('#df-fff758cc-247d-4eaa-a46c-238f9a991982 button.colab-df-convert');\n",
              "        buttonEl.style.display =\n",
              "          google.colab.kernel.accessAllowed ? 'block' : 'none';\n",
              "\n",
              "        async function convertToInteractive(key) {\n",
              "          const element = document.querySelector('#df-fff758cc-247d-4eaa-a46c-238f9a991982');\n",
              "          const dataTable =\n",
              "            await google.colab.kernel.invokeFunction('convertToInteractive',\n",
              "                                                     [key], {});\n",
              "          if (!dataTable) return;\n",
              "\n",
              "          const docLinkHtml = 'Like what you see? Visit the ' +\n",
              "            '<a target=\"_blank\" href=https://colab.research.google.com/notebooks/data_table.ipynb>data table notebook</a>'\n",
              "            + ' to learn more about interactive tables.';\n",
              "          element.innerHTML = '';\n",
              "          dataTable['output_type'] = 'display_data';\n",
              "          await google.colab.output.renderOutput(dataTable, element);\n",
              "          const docLink = document.createElement('div');\n",
              "          docLink.innerHTML = docLinkHtml;\n",
              "          element.appendChild(docLink);\n",
              "        }\n",
              "      </script>\n",
              "    </div>\n",
              "  </div>\n",
              "  "
            ]
          },
          "metadata": {},
          "execution_count": 30
        }
      ],
      "source": [
        "from sklearn.preprocessing import LabelEncoder\n",
        "n_dia = LabelEncoder()\n",
        "dia['Gender'] = n_dia.fit_transform(dia['Gender'].astype('str')) \n",
        "dia['Polyuria'] = n_dia.fit_transform(dia['Polyuria'].astype('str')) \n",
        "dia['Polydipsia'] = n_dia.fit_transform(dia['Polydipsia'].astype('str')) \n",
        "dia['sudden weight loss'] = n_dia.fit_transform(dia['sudden weight loss'].astype('str')) \n",
        "dia['weakness'] = n_dia.fit_transform(dia['weakness'].astype('str')) \n",
        "dia['Obesity'] = n_dia.fit_transform(dia['Obesity'].astype('str')) \n",
        "dia['class'] = n_dia.fit_transform(dia['class'].astype('str')) \n",
        "dia = dia.astype('float32')\n",
        "dia.head()"
      ]
    },
    {
      "cell_type": "code",
      "source": [
        "#Convert dataframe into array\n",
        "dataset = dia.values\n",
        "dataset"
      ],
      "metadata": {
        "colab": {
          "base_uri": "https://localhost:8080/"
        },
        "id": "DAnpykXqByTK",
        "outputId": "a2c71f6d-abdf-4041-e28f-50f6d6c72fd0"
      },
      "execution_count": null,
      "outputs": [
        {
          "output_type": "execute_result",
          "data": {
            "text/plain": [
              "array([[40.,  1.,  0., ...,  1.,  1.,  1.],\n",
              "       [58.,  1.,  0., ...,  1.,  0.,  1.],\n",
              "       [41.,  1.,  1., ...,  1.,  0.,  1.],\n",
              "       ...,\n",
              "       [58.,  0.,  1., ...,  1.,  1.,  1.],\n",
              "       [32.,  0.,  0., ...,  1.,  0.,  0.],\n",
              "       [42.,  1.,  0., ...,  0.,  0.,  0.]], dtype=float32)"
            ]
          },
          "metadata": {},
          "execution_count": 31
        }
      ]
    },
    {
      "cell_type": "markdown",
      "source": [
        "### Prepare the dataset\n"
      ],
      "metadata": {
        "id": "R7i_dSkM0zys"
      }
    },
    {
      "cell_type": "code",
      "execution_count": null,
      "metadata": {
        "id": "hM7Sny59w5MY"
      },
      "outputs": [],
      "source": [
        "#Splitting into input features(X) and features to predict(Y)\n",
        "X = dataset[:, :-1]\n",
        "Y = dataset[:, 7]"
      ]
    },
    {
      "cell_type": "code",
      "execution_count": null,
      "metadata": {
        "id": "Rv08Frggw5Ma",
        "colab": {
          "base_uri": "https://localhost:8080/"
        },
        "outputId": "3d8abb75-6d5a-4f04-e727-890547b52150"
      },
      "outputs": [
        {
          "output_type": "execute_result",
          "data": {
            "text/plain": [
              "array([[0.32432437, 1.        , 0.        , ..., 0.        , 1.        ,\n",
              "        1.        ],\n",
              "       [0.5675676 , 1.        , 0.        , ..., 0.        , 1.        ,\n",
              "        0.        ],\n",
              "       [0.33783787, 1.        , 1.        , ..., 0.        , 1.        ,\n",
              "        0.        ],\n",
              "       ...,\n",
              "       [0.5675676 , 0.        , 1.        , ..., 1.        , 1.        ,\n",
              "        1.        ],\n",
              "       [0.21621622, 0.        , 0.        , ..., 0.        , 1.        ,\n",
              "        0.        ],\n",
              "       [0.35135138, 1.        , 0.        , ..., 0.        , 0.        ,\n",
              "        0.        ]], dtype=float32)"
            ]
          },
          "metadata": {},
          "execution_count": 33
        }
      ],
      "source": [
        "#Scale dataset so that all inputs between 0 and 1 inclusive\n",
        "from sklearn import preprocessing\n",
        "min_max_scalar = preprocessing.MinMaxScaler()\n",
        "X_Scale = min_max_scalar.fit_transform(X)\n",
        "X_Scale"
      ]
    },
    {
      "cell_type": "code",
      "execution_count": null,
      "metadata": {
        "id": "MLETL_xfw5Mb",
        "colab": {
          "base_uri": "https://localhost:8080/"
        },
        "outputId": "f3bd2306-14e2-450c-cec5-b116bdbae208"
      },
      "outputs": [
        {
          "output_type": "stream",
          "name": "stdout",
          "text": [
            "(364, 7) (78, 7) (78, 7) (364,) (78,) (78,)\n"
          ]
        }
      ],
      "source": [
        "#Splitting dataset into training,validation and testing sets\n",
        "from sklearn.model_selection import train_test_split\n",
        "X_train, X_val_and_test, Y_train, Y_val_and_test = train_test_split(X_Scale, Y, test_size=0.3)\n",
        "X_val, X_test, Y_val, Y_test = train_test_split(X_val_and_test, Y_val_and_test, test_size=0.5)\n",
        "print(X_train.shape, X_val.shape, X_test.shape, Y_train.shape, Y_val.shape, Y_test.shape)"
      ]
    },
    {
      "cell_type": "markdown",
      "source": [
        "### Describe sequential model to keras"
      ],
      "metadata": {
        "id": "ZQepXyGd4BIY"
      }
    },
    {
      "cell_type": "code",
      "execution_count": null,
      "metadata": {
        "id": "jgKt75PXw5Mc"
      },
      "outputs": [],
      "source": [
        "#Describe sequential model to keras. Using ReLU and sigmoid activation functions.\n",
        "from keras.models import Sequential\n",
        "from keras.layers import Dense\n",
        "model = Sequential([\n",
        "Dense(32, activation='relu', input_shape=(7,)),\n",
        "Dense(32, activation='relu'),\n",
        "Dense(1, activation='sigmoid'),\n",
        "])"
      ]
    },
    {
      "cell_type": "code",
      "source": [
        "#Configure model\n",
        "model.compile(optimizer='sgd',loss='binary_crossentropy',metrics=['accuracy'])\n"
      ],
      "metadata": {
        "id": "7HMZQ2hh3Uhk"
      },
      "execution_count": null,
      "outputs": []
    },
    {
      "cell_type": "code",
      "source": [
        "#Training the data\n",
        "hist = model.fit(X_train, Y_train,batch_size=32, epochs=100,validation_data=(X_val, Y_val))\n"
      ],
      "metadata": {
        "colab": {
          "base_uri": "https://localhost:8080/"
        },
        "id": "IWW_mHnW4jhK",
        "outputId": "d8c43f8e-ac9f-4dc8-b2f6-6b3591d76257"
      },
      "execution_count": null,
      "outputs": [
        {
          "output_type": "stream",
          "name": "stdout",
          "text": [
            "Epoch 1/100\n",
            "12/12 [==============================] - 1s 25ms/step - loss: 0.7005 - accuracy: 0.5000 - val_loss: 0.7079 - val_accuracy: 0.4359\n",
            "Epoch 2/100\n",
            "12/12 [==============================] - 0s 6ms/step - loss: 0.6853 - accuracy: 0.5549 - val_loss: 0.6911 - val_accuracy: 0.5000\n",
            "Epoch 3/100\n",
            "12/12 [==============================] - 0s 6ms/step - loss: 0.6715 - accuracy: 0.5907 - val_loss: 0.6773 - val_accuracy: 0.5769\n",
            "Epoch 4/100\n",
            "12/12 [==============================] - 0s 4ms/step - loss: 0.6602 - accuracy: 0.6126 - val_loss: 0.6643 - val_accuracy: 0.5769\n",
            "Epoch 5/100\n",
            "12/12 [==============================] - 0s 6ms/step - loss: 0.6491 - accuracy: 0.6181 - val_loss: 0.6524 - val_accuracy: 0.6026\n",
            "Epoch 6/100\n",
            "12/12 [==============================] - 0s 4ms/step - loss: 0.6390 - accuracy: 0.6181 - val_loss: 0.6406 - val_accuracy: 0.6026\n",
            "Epoch 7/100\n",
            "12/12 [==============================] - 0s 5ms/step - loss: 0.6292 - accuracy: 0.6181 - val_loss: 0.6291 - val_accuracy: 0.6026\n",
            "Epoch 8/100\n",
            "12/12 [==============================] - 0s 6ms/step - loss: 0.6196 - accuracy: 0.6181 - val_loss: 0.6180 - val_accuracy: 0.6026\n",
            "Epoch 9/100\n",
            "12/12 [==============================] - 0s 7ms/step - loss: 0.6101 - accuracy: 0.6181 - val_loss: 0.6072 - val_accuracy: 0.6026\n",
            "Epoch 10/100\n",
            "12/12 [==============================] - 0s 5ms/step - loss: 0.6010 - accuracy: 0.6181 - val_loss: 0.5967 - val_accuracy: 0.6026\n",
            "Epoch 11/100\n",
            "12/12 [==============================] - 0s 6ms/step - loss: 0.5923 - accuracy: 0.6181 - val_loss: 0.5864 - val_accuracy: 0.6026\n",
            "Epoch 12/100\n",
            "12/12 [==============================] - 0s 5ms/step - loss: 0.5837 - accuracy: 0.6181 - val_loss: 0.5758 - val_accuracy: 0.6026\n",
            "Epoch 13/100\n",
            "12/12 [==============================] - 0s 6ms/step - loss: 0.5750 - accuracy: 0.6154 - val_loss: 0.5658 - val_accuracy: 0.6026\n",
            "Epoch 14/100\n",
            "12/12 [==============================] - 0s 5ms/step - loss: 0.5667 - accuracy: 0.6154 - val_loss: 0.5554 - val_accuracy: 0.6026\n",
            "Epoch 15/100\n",
            "12/12 [==============================] - 0s 7ms/step - loss: 0.5581 - accuracy: 0.6154 - val_loss: 0.5453 - val_accuracy: 0.6026\n",
            "Epoch 16/100\n",
            "12/12 [==============================] - 0s 6ms/step - loss: 0.5499 - accuracy: 0.6181 - val_loss: 0.5357 - val_accuracy: 0.6154\n",
            "Epoch 17/100\n",
            "12/12 [==============================] - 0s 5ms/step - loss: 0.5417 - accuracy: 0.6291 - val_loss: 0.5259 - val_accuracy: 0.6282\n",
            "Epoch 18/100\n",
            "12/12 [==============================] - 0s 6ms/step - loss: 0.5336 - accuracy: 0.6538 - val_loss: 0.5160 - val_accuracy: 0.6282\n",
            "Epoch 19/100\n",
            "12/12 [==============================] - 0s 6ms/step - loss: 0.5255 - accuracy: 0.7198 - val_loss: 0.5060 - val_accuracy: 0.7051\n",
            "Epoch 20/100\n",
            "12/12 [==============================] - 0s 4ms/step - loss: 0.5174 - accuracy: 0.7555 - val_loss: 0.4960 - val_accuracy: 0.7436\n",
            "Epoch 21/100\n",
            "12/12 [==============================] - 0s 5ms/step - loss: 0.5093 - accuracy: 0.7720 - val_loss: 0.4862 - val_accuracy: 0.7436\n",
            "Epoch 22/100\n",
            "12/12 [==============================] - 0s 4ms/step - loss: 0.5015 - accuracy: 0.7720 - val_loss: 0.4767 - val_accuracy: 0.7564\n",
            "Epoch 23/100\n",
            "12/12 [==============================] - 0s 4ms/step - loss: 0.4940 - accuracy: 0.7857 - val_loss: 0.4672 - val_accuracy: 0.7564\n",
            "Epoch 24/100\n",
            "12/12 [==============================] - 0s 4ms/step - loss: 0.4866 - accuracy: 0.7857 - val_loss: 0.4576 - val_accuracy: 0.7692\n",
            "Epoch 25/100\n",
            "12/12 [==============================] - 0s 6ms/step - loss: 0.4791 - accuracy: 0.7857 - val_loss: 0.4482 - val_accuracy: 0.7692\n",
            "Epoch 26/100\n",
            "12/12 [==============================] - 0s 6ms/step - loss: 0.4719 - accuracy: 0.7857 - val_loss: 0.4393 - val_accuracy: 0.7692\n",
            "Epoch 27/100\n",
            "12/12 [==============================] - 0s 4ms/step - loss: 0.4648 - accuracy: 0.7857 - val_loss: 0.4304 - val_accuracy: 0.7692\n",
            "Epoch 28/100\n",
            "12/12 [==============================] - 0s 6ms/step - loss: 0.4581 - accuracy: 0.7857 - val_loss: 0.4218 - val_accuracy: 0.7692\n",
            "Epoch 29/100\n",
            "12/12 [==============================] - 0s 4ms/step - loss: 0.4515 - accuracy: 0.7830 - val_loss: 0.4134 - val_accuracy: 0.7692\n",
            "Epoch 30/100\n",
            "12/12 [==============================] - 0s 5ms/step - loss: 0.4451 - accuracy: 0.7747 - val_loss: 0.4050 - val_accuracy: 0.7564\n",
            "Epoch 31/100\n",
            "12/12 [==============================] - 0s 4ms/step - loss: 0.4388 - accuracy: 0.7637 - val_loss: 0.3966 - val_accuracy: 0.7692\n",
            "Epoch 32/100\n",
            "12/12 [==============================] - 0s 5ms/step - loss: 0.4324 - accuracy: 0.7555 - val_loss: 0.3884 - val_accuracy: 0.7821\n",
            "Epoch 33/100\n",
            "12/12 [==============================] - 0s 4ms/step - loss: 0.4265 - accuracy: 0.7995 - val_loss: 0.3800 - val_accuracy: 0.9231\n",
            "Epoch 34/100\n",
            "12/12 [==============================] - 0s 5ms/step - loss: 0.4207 - accuracy: 0.8352 - val_loss: 0.3724 - val_accuracy: 0.9231\n",
            "Epoch 35/100\n",
            "12/12 [==============================] - 0s 6ms/step - loss: 0.4151 - accuracy: 0.8379 - val_loss: 0.3646 - val_accuracy: 0.9231\n",
            "Epoch 36/100\n",
            "12/12 [==============================] - 0s 4ms/step - loss: 0.4096 - accuracy: 0.8434 - val_loss: 0.3576 - val_accuracy: 0.9231\n",
            "Epoch 37/100\n",
            "12/12 [==============================] - 0s 5ms/step - loss: 0.4044 - accuracy: 0.8434 - val_loss: 0.3503 - val_accuracy: 0.9231\n",
            "Epoch 38/100\n",
            "12/12 [==============================] - 0s 6ms/step - loss: 0.3992 - accuracy: 0.8434 - val_loss: 0.3426 - val_accuracy: 0.9231\n",
            "Epoch 39/100\n",
            "12/12 [==============================] - 0s 5ms/step - loss: 0.3940 - accuracy: 0.8434 - val_loss: 0.3355 - val_accuracy: 0.9231\n",
            "Epoch 40/100\n",
            "12/12 [==============================] - 0s 5ms/step - loss: 0.3888 - accuracy: 0.8434 - val_loss: 0.3287 - val_accuracy: 0.9231\n",
            "Epoch 41/100\n",
            "12/12 [==============================] - 0s 5ms/step - loss: 0.3841 - accuracy: 0.8434 - val_loss: 0.3222 - val_accuracy: 0.9231\n",
            "Epoch 42/100\n",
            "12/12 [==============================] - 0s 7ms/step - loss: 0.3794 - accuracy: 0.8434 - val_loss: 0.3158 - val_accuracy: 0.9359\n",
            "Epoch 43/100\n",
            "12/12 [==============================] - 0s 6ms/step - loss: 0.3749 - accuracy: 0.8489 - val_loss: 0.3097 - val_accuracy: 0.9359\n",
            "Epoch 44/100\n",
            "12/12 [==============================] - 0s 6ms/step - loss: 0.3706 - accuracy: 0.8516 - val_loss: 0.3042 - val_accuracy: 0.9359\n",
            "Epoch 45/100\n",
            "12/12 [==============================] - 0s 5ms/step - loss: 0.3663 - accuracy: 0.8516 - val_loss: 0.2980 - val_accuracy: 0.9359\n",
            "Epoch 46/100\n",
            "12/12 [==============================] - 0s 6ms/step - loss: 0.3622 - accuracy: 0.8516 - val_loss: 0.2927 - val_accuracy: 0.9359\n",
            "Epoch 47/100\n",
            "12/12 [==============================] - 0s 5ms/step - loss: 0.3583 - accuracy: 0.8516 - val_loss: 0.2868 - val_accuracy: 0.9359\n",
            "Epoch 48/100\n",
            "12/12 [==============================] - 0s 6ms/step - loss: 0.3544 - accuracy: 0.8516 - val_loss: 0.2816 - val_accuracy: 0.9359\n",
            "Epoch 49/100\n",
            "12/12 [==============================] - 0s 5ms/step - loss: 0.3505 - accuracy: 0.8516 - val_loss: 0.2765 - val_accuracy: 0.9359\n",
            "Epoch 50/100\n",
            "12/12 [==============================] - 0s 7ms/step - loss: 0.3468 - accuracy: 0.8516 - val_loss: 0.2707 - val_accuracy: 0.9359\n",
            "Epoch 51/100\n",
            "12/12 [==============================] - 0s 6ms/step - loss: 0.3432 - accuracy: 0.8516 - val_loss: 0.2657 - val_accuracy: 0.9359\n",
            "Epoch 52/100\n",
            "12/12 [==============================] - 0s 6ms/step - loss: 0.3396 - accuracy: 0.8489 - val_loss: 0.2611 - val_accuracy: 0.9359\n",
            "Epoch 53/100\n",
            "12/12 [==============================] - 0s 6ms/step - loss: 0.3364 - accuracy: 0.8489 - val_loss: 0.2566 - val_accuracy: 0.9359\n",
            "Epoch 54/100\n",
            "12/12 [==============================] - 0s 6ms/step - loss: 0.3333 - accuracy: 0.8516 - val_loss: 0.2516 - val_accuracy: 0.9359\n",
            "Epoch 55/100\n",
            "12/12 [==============================] - 0s 4ms/step - loss: 0.3298 - accuracy: 0.8516 - val_loss: 0.2465 - val_accuracy: 0.9359\n",
            "Epoch 56/100\n",
            "12/12 [==============================] - 0s 4ms/step - loss: 0.3267 - accuracy: 0.8462 - val_loss: 0.2422 - val_accuracy: 0.9359\n",
            "Epoch 57/100\n",
            "12/12 [==============================] - 0s 6ms/step - loss: 0.3237 - accuracy: 0.8544 - val_loss: 0.2379 - val_accuracy: 0.9615\n",
            "Epoch 58/100\n",
            "12/12 [==============================] - 0s 5ms/step - loss: 0.3209 - accuracy: 0.8544 - val_loss: 0.2344 - val_accuracy: 0.9615\n",
            "Epoch 59/100\n",
            "12/12 [==============================] - 0s 5ms/step - loss: 0.3181 - accuracy: 0.8571 - val_loss: 0.2294 - val_accuracy: 0.9615\n",
            "Epoch 60/100\n",
            "12/12 [==============================] - 0s 4ms/step - loss: 0.3154 - accuracy: 0.8516 - val_loss: 0.2265 - val_accuracy: 0.9615\n",
            "Epoch 61/100\n",
            "12/12 [==============================] - 0s 5ms/step - loss: 0.3129 - accuracy: 0.8516 - val_loss: 0.2232 - val_accuracy: 0.9615\n",
            "Epoch 62/100\n",
            "12/12 [==============================] - 0s 6ms/step - loss: 0.3105 - accuracy: 0.8516 - val_loss: 0.2196 - val_accuracy: 0.9615\n",
            "Epoch 63/100\n",
            "12/12 [==============================] - 0s 6ms/step - loss: 0.3081 - accuracy: 0.8544 - val_loss: 0.2167 - val_accuracy: 0.9615\n",
            "Epoch 64/100\n",
            "12/12 [==============================] - 0s 6ms/step - loss: 0.3056 - accuracy: 0.8544 - val_loss: 0.2138 - val_accuracy: 0.9615\n",
            "Epoch 65/100\n",
            "12/12 [==============================] - 0s 5ms/step - loss: 0.3035 - accuracy: 0.8544 - val_loss: 0.2107 - val_accuracy: 0.9615\n",
            "Epoch 66/100\n",
            "12/12 [==============================] - 0s 5ms/step - loss: 0.3014 - accuracy: 0.8544 - val_loss: 0.2074 - val_accuracy: 0.9615\n",
            "Epoch 67/100\n",
            "12/12 [==============================] - 0s 7ms/step - loss: 0.2994 - accuracy: 0.8571 - val_loss: 0.2045 - val_accuracy: 0.9615\n",
            "Epoch 68/100\n",
            "12/12 [==============================] - 0s 5ms/step - loss: 0.2973 - accuracy: 0.8571 - val_loss: 0.2012 - val_accuracy: 0.9615\n",
            "Epoch 69/100\n",
            "12/12 [==============================] - 0s 5ms/step - loss: 0.2952 - accuracy: 0.8544 - val_loss: 0.1985 - val_accuracy: 0.9615\n",
            "Epoch 70/100\n",
            "12/12 [==============================] - 0s 5ms/step - loss: 0.2935 - accuracy: 0.8544 - val_loss: 0.1956 - val_accuracy: 0.9615\n",
            "Epoch 71/100\n",
            "12/12 [==============================] - 0s 5ms/step - loss: 0.2917 - accuracy: 0.8571 - val_loss: 0.1929 - val_accuracy: 0.9615\n",
            "Epoch 72/100\n",
            "12/12 [==============================] - 0s 6ms/step - loss: 0.2898 - accuracy: 0.8516 - val_loss: 0.1910 - val_accuracy: 0.9615\n",
            "Epoch 73/100\n",
            "12/12 [==============================] - 0s 7ms/step - loss: 0.2883 - accuracy: 0.8489 - val_loss: 0.1887 - val_accuracy: 0.9615\n",
            "Epoch 74/100\n",
            "12/12 [==============================] - 0s 6ms/step - loss: 0.2867 - accuracy: 0.8489 - val_loss: 0.1860 - val_accuracy: 0.9615\n",
            "Epoch 75/100\n",
            "12/12 [==============================] - 0s 5ms/step - loss: 0.2852 - accuracy: 0.8489 - val_loss: 0.1841 - val_accuracy: 0.9615\n",
            "Epoch 76/100\n",
            "12/12 [==============================] - 0s 7ms/step - loss: 0.2837 - accuracy: 0.8489 - val_loss: 0.1818 - val_accuracy: 0.9615\n",
            "Epoch 77/100\n",
            "12/12 [==============================] - 0s 6ms/step - loss: 0.2823 - accuracy: 0.8489 - val_loss: 0.1801 - val_accuracy: 0.9615\n",
            "Epoch 78/100\n",
            "12/12 [==============================] - 0s 5ms/step - loss: 0.2810 - accuracy: 0.8571 - val_loss: 0.1777 - val_accuracy: 0.9615\n",
            "Epoch 79/100\n",
            "12/12 [==============================] - 0s 6ms/step - loss: 0.2798 - accuracy: 0.8544 - val_loss: 0.1754 - val_accuracy: 0.9615\n",
            "Epoch 80/100\n",
            "12/12 [==============================] - 0s 5ms/step - loss: 0.2783 - accuracy: 0.8516 - val_loss: 0.1732 - val_accuracy: 0.9615\n",
            "Epoch 81/100\n",
            "12/12 [==============================] - 0s 7ms/step - loss: 0.2774 - accuracy: 0.8489 - val_loss: 0.1717 - val_accuracy: 0.9615\n",
            "Epoch 82/100\n",
            "12/12 [==============================] - 0s 5ms/step - loss: 0.2763 - accuracy: 0.8599 - val_loss: 0.1695 - val_accuracy: 0.9615\n",
            "Epoch 83/100\n",
            "12/12 [==============================] - 0s 5ms/step - loss: 0.2752 - accuracy: 0.8599 - val_loss: 0.1679 - val_accuracy: 0.9615\n",
            "Epoch 84/100\n",
            "12/12 [==============================] - 0s 6ms/step - loss: 0.2741 - accuracy: 0.8571 - val_loss: 0.1662 - val_accuracy: 0.9615\n",
            "Epoch 85/100\n",
            "12/12 [==============================] - 0s 5ms/step - loss: 0.2727 - accuracy: 0.8599 - val_loss: 0.1643 - val_accuracy: 0.9615\n",
            "Epoch 86/100\n",
            "12/12 [==============================] - 0s 5ms/step - loss: 0.2719 - accuracy: 0.8599 - val_loss: 0.1624 - val_accuracy: 0.9615\n",
            "Epoch 87/100\n",
            "12/12 [==============================] - 0s 5ms/step - loss: 0.2708 - accuracy: 0.8626 - val_loss: 0.1607 - val_accuracy: 0.9744\n",
            "Epoch 88/100\n",
            "12/12 [==============================] - 0s 5ms/step - loss: 0.2698 - accuracy: 0.8626 - val_loss: 0.1591 - val_accuracy: 0.9744\n",
            "Epoch 89/100\n",
            "12/12 [==============================] - 0s 6ms/step - loss: 0.2690 - accuracy: 0.8654 - val_loss: 0.1579 - val_accuracy: 0.9744\n",
            "Epoch 90/100\n",
            "12/12 [==============================] - 0s 6ms/step - loss: 0.2682 - accuracy: 0.8626 - val_loss: 0.1572 - val_accuracy: 0.9744\n",
            "Epoch 91/100\n",
            "12/12 [==============================] - 0s 4ms/step - loss: 0.2672 - accuracy: 0.8654 - val_loss: 0.1555 - val_accuracy: 0.9744\n",
            "Epoch 92/100\n",
            "12/12 [==============================] - 0s 4ms/step - loss: 0.2665 - accuracy: 0.8681 - val_loss: 0.1543 - val_accuracy: 0.9744\n",
            "Epoch 93/100\n",
            "12/12 [==============================] - 0s 4ms/step - loss: 0.2655 - accuracy: 0.8709 - val_loss: 0.1528 - val_accuracy: 0.9744\n",
            "Epoch 94/100\n",
            "12/12 [==============================] - 0s 5ms/step - loss: 0.2650 - accuracy: 0.8709 - val_loss: 0.1524 - val_accuracy: 0.9744\n",
            "Epoch 95/100\n",
            "12/12 [==============================] - 0s 6ms/step - loss: 0.2640 - accuracy: 0.8791 - val_loss: 0.1507 - val_accuracy: 0.9744\n",
            "Epoch 96/100\n",
            "12/12 [==============================] - 0s 4ms/step - loss: 0.2636 - accuracy: 0.8791 - val_loss: 0.1489 - val_accuracy: 0.9744\n",
            "Epoch 97/100\n",
            "12/12 [==============================] - 0s 4ms/step - loss: 0.2628 - accuracy: 0.8681 - val_loss: 0.1485 - val_accuracy: 0.9744\n",
            "Epoch 98/100\n",
            "12/12 [==============================] - 0s 4ms/step - loss: 0.2620 - accuracy: 0.8764 - val_loss: 0.1475 - val_accuracy: 0.9744\n",
            "Epoch 99/100\n",
            "12/12 [==============================] - 0s 6ms/step - loss: 0.2614 - accuracy: 0.8764 - val_loss: 0.1474 - val_accuracy: 0.9615\n",
            "Epoch 100/100\n",
            "12/12 [==============================] - 0s 4ms/step - loss: 0.2604 - accuracy: 0.8791 - val_loss: 0.1469 - val_accuracy: 0.9615\n"
          ]
        }
      ]
    },
    {
      "cell_type": "code",
      "source": [
        "#Evaluate model\n",
        "model.evaluate(X_test, Y_test)[1]\n",
        "\n"
      ],
      "metadata": {
        "colab": {
          "base_uri": "https://localhost:8080/"
        },
        "id": "0v2IuZkN5Bg_",
        "outputId": "034817ba-348d-4f45-ece9-006c7380cf08"
      },
      "execution_count": null,
      "outputs": [
        {
          "output_type": "stream",
          "name": "stdout",
          "text": [
            "3/3 [==============================] - 0s 4ms/step - loss: 0.2927 - accuracy: 0.8590\n"
          ]
        },
        {
          "output_type": "execute_result",
          "data": {
            "text/plain": [
              "0.8589743375778198"
            ]
          },
          "metadata": {},
          "execution_count": 41
        }
      ]
    }
  ],
  "metadata": {
    "kernelspec": {
      "display_name": "Python 3",
      "language": "python",
      "name": "python3"
    },
    "language_info": {
      "codemirror_mode": {
        "name": "ipython",
        "version": 3
      },
      "file_extension": ".py",
      "mimetype": "text/x-python",
      "name": "python",
      "nbconvert_exporter": "python",
      "pygments_lexer": "ipython3",
      "version": "3.8.5"
    },
    "colab": {
      "provenance": [],
      "include_colab_link": true
    }
  },
  "nbformat": 4,
  "nbformat_minor": 0
}